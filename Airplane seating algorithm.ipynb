seat_fill = 0
num = 30
row = 0
temp = -1

def main(seating_system):
    seats = []
    for i in seating_system:
        rows = i[1]
        cols = i[0]
        mat = []
        for i in range(rows):
            mat.append([-1]*cols)
        seats.append(mat)
    return seats

def aisle_seats():
    # seat_fill = 0
    global seat_fill
    row = 0
    temp = -1
    while seat_fill < num and seat_fill != temp:
        temp = seat_fill
        for i in range(length):
            if seating_system[i][1] > row:
                if i == 0 and seating_system[i][0] > 1:
                    seat_fill += 1
                    aisleCol = seating_system[i][0] - 1
                    seats[i][row][aisleCol] = seat_fill
                    if seat_fill >= num:
                        break
                elif i == length - 1 and seating_system[i][0] > 1:
                    seat_fill += 1
                    aisleCol = 0
                    seats[i][row][aisleCol] = seat_fill
                    if seat_fill >= num:
                        break
                else:
                    seat_fill += 1
                    aisleCol = 0
                    seats[i][row][aisleCol] = seat_fill
                    if seat_fill >= num:
                        break
                    if seating_system[i][0] > 1:
                        seat_fill += 1
                        aisleCol = seating_system[i][0] - 1
                        seats[i][row][aisleCol] = seat_fill
                        if seat_fill >= num:
                            break
        row += 1

def window_seats():
    row = 0
    global seat_fill
    global num
    temp = 0
    while seat_fill < num and seat_fill != temp:
        temp = seat_fill
        if seating_system[0][1] > row:
            seat_fill += 1
            window = 0
            seats[0][row][window] = seat_fill
            if seat_fill >= num:
                break
        if seating_system[length-1][1] > row:
            seat_fill += 1
            window = seating_system[length-1][0] - 1
            seats[length-1][row][window] = seat_fill
            if seat_fill >= num:
                break
        row += 1

def middle_seats():
    row = 0
    temp = 0
    global seat_fill
    while seat_fill < num and seat_fill != temp:
        temp = seat_fill
        for i in range(length):
            if seating_system[i][1] > row:
                if seating_system[i][0] > 2:
                    for col in range(1, seating_system[i][0] - 1):
                        seat_fill += 1
                        seats[i][row][col] = seat_fill
                        if seat_fill >= num:
                            break
        row += 1

def print_out(seats):
    spece = len(str(num))
    rows = [x[1] for x in seating_system]
    cols = [x[0] for x in seating_system]
    maxi = max(rows)
    top = True
    for i in range(maxi):
        rowlist = []
        rowlistl = []
        for j in range(length):
            row = ' '
            rowl = ' '
            if len(seats[j]) <= i:
                for k in range(cols[j]):
                    row += ' '*spece
                    rowl += ' '*spece
                    row += ' '
                    rowl += ' '
            else:
                row = '|'
                rowl = ' '
                for k in seats[j][i]:
                    if k == -1:
                        row += ' '*spece
                        rowl += ' '*spece
                        row += '|'
                        rowl += ' '
                    else:
                        row += str(k)+(' '*(spece - len(str(k))))
                        rowl += ' '*spece
                        row += '|'
                        rowl += ' '
            
            rowlist.append(row)
            rowlistl.append(rowl)
        if top:
            print('    '.join(rowlistl))
            top = False
        print('    '.join(rowlist))
        print('    '.join(rowlistl))


seating_system = [ [3,2], [4,3], [2,3], [3,4] ]
seats = main(seating_system)
length = len(seating_system)
aisle_seats()
window_seats()


row = 0
temp = 0
middle_seats()
print_out(seats)
